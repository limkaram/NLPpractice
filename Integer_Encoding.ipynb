{
  "nbformat": 4,
  "nbformat_minor": 0,
  "metadata": {
    "colab": {
      "name": "Integer_Encoding.ipynb",
      "provenance": [],
      "private_outputs": true,
      "collapsed_sections": [],
      "authorship_tag": "ABX9TyOlZOlI2oe6+VewX99d9fgn",
      "include_colab_link": true
    },
    "kernelspec": {
      "name": "python3",
      "display_name": "Python 3"
    }
  },
  "cells": [
    {
      "cell_type": "markdown",
      "metadata": {
        "id": "view-in-github",
        "colab_type": "text"
      },
      "source": [
        "<a href=\"https://colab.research.google.com/github/limkaram/Natural_language_processing_with_deep_learning/blob/main/Integer_Encoding.ipynb\" target=\"_parent\"><img src=\"https://colab.research.google.com/assets/colab-badge.svg\" alt=\"Open In Colab\"/></a>"
      ]
    },
    {
      "cell_type": "markdown",
      "metadata": {
        "id": "u1ms9f7VfqIg"
      },
      "source": [
        "## 1. 정수 인코딩(Integer Encoding)\n",
        "* 보통 단어 빈도수가 높은 순으로 정리한 내림차순으로 정렬한 후 정수 인코딩을 진행하는 경우가 많음"
      ]
    },
    {
      "cell_type": "markdown",
      "metadata": {
        "id": "nTQfOJAjgFxq"
      },
      "source": [
        "1-1. Dictionary 활용 정수 인코딩"
      ]
    },
    {
      "cell_type": "code",
      "metadata": {
        "id": "h9EcbroLfrwz"
      },
      "source": [
        "from nltk.tokenize import word_tokenize\n",
        "from nltk.tokenize import sent_tokenize\n",
        "from nltk.corpus import stopwords\n",
        "import nltk\n",
        "nltk.download('punkt')\n",
        "nltk.download('stopwords')\n",
        "\n",
        "text = \"A barber is a person. a barber is good person. a barber is huge person. he Knew A Secret! The Secret He Kept is huge secret. Huge secret. His barber kept his word. a barber kept his word. His barber kept his secret. But keeping and keeping such a huge secret to himself was driving the barber crazy. the barber went up a huge mountain.\""
      ],
      "execution_count": null,
      "outputs": []
    },
    {
      "cell_type": "code",
      "metadata": {
        "id": "WTah8XFkkOCt"
      },
      "source": [
        "# 텍스트 정제 단계 : 불용어 제거, 길이 2 이하 단어 제거\n",
        "\n",
        "sentences = sent_tokenize(text)\n",
        "stop_words = set(stopwords.words('english'))\n",
        "vocap_list = []\n",
        "for sentence in sentences:\n",
        "    words = word_tokenize(sentence)\n",
        "    cleaned_words = []\n",
        "    for word in words:\n",
        "        word = word.lower()\n",
        "        if word not in stop_words:\n",
        "            if len(word) >= 2:\n",
        "                cleaned_words.append(word)\n",
        "    vocap_list.append(cleaned_words)\n",
        "print(vocap_list)"
      ],
      "execution_count": null,
      "outputs": []
    },
    {
      "cell_type": "code",
      "metadata": {
        "id": "tGRu9xLblpeR"
      },
      "source": [
        "# dictionary '단어' : 빈도수 형태로 변환\n",
        "vocap = {}\n",
        "\n",
        "for vocaps in vocap_list:\n",
        "    for v in vocaps:\n",
        "        if v in vocap:\n",
        "            vocap[v] += 1\n",
        "        else:\n",
        "            vocap[v] = 1\n",
        "\n",
        "vocaps = sorted(vocap.items(), key=lambda x: x[1], reverse=True) # 내림차순 정렬\n",
        "print(vocaps)"
      ],
      "execution_count": null,
      "outputs": []
    },
    {
      "cell_type": "code",
      "metadata": {
        "id": "hfxK8PLJmqrn"
      },
      "source": [
        "# 정렬된 문자들에 인덱스 부여\n",
        "word_to_index = {}\n",
        "count = 0\n",
        "for word, frequency in vocaps:\n",
        "    if frequency > 1:  # 빈도수 2 이하 제거\n",
        "        count += 1\n",
        "        word_to_index[word] = count\n",
        "word_to_index"
      ],
      "execution_count": null,
      "outputs": []
    }
  ]
}