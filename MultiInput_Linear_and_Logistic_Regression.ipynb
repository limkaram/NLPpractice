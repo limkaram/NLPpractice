{
  "nbformat": 4,
  "nbformat_minor": 0,
  "metadata": {
    "colab": {
      "name": "MultiInput_Linear_and_Logistic_Regression.ipynb",
      "provenance": [],
      "private_outputs": true,
      "collapsed_sections": [],
      "authorship_tag": "ABX9TyPcAubFXSwlxQkrU7muZJhJ",
      "include_colab_link": true
    },
    "kernelspec": {
      "name": "python3",
      "display_name": "Python 3"
    },
    "accelerator": "GPU"
  },
  "cells": [
    {
      "cell_type": "markdown",
      "metadata": {
        "id": "view-in-github",
        "colab_type": "text"
      },
      "source": [
        "<a href=\"https://colab.research.google.com/github/limkaram/Natural_language_processing_with_deep_learning/blob/main/MultiInput_Linear_and_Logistic_Regression.ipynb\" target=\"_parent\"><img src=\"https://colab.research.google.com/assets/colab-badge.svg\" alt=\"Open In Colab\"/></a>"
      ]
    },
    {
      "cell_type": "markdown",
      "metadata": {
        "id": "3y8FLtRM6FtT"
      },
      "source": [
        "## 다중 입력에 대한 선형, 로지스틱 회귀 실습"
      ]
    },
    {
      "cell_type": "markdown",
      "metadata": {
        "id": "Vzo3Hohq8WAF"
      },
      "source": [
        "1. 다중 선형 회귀"
      ]
    },
    {
      "cell_type": "code",
      "metadata": {
        "id": "qf_pJ7g16Jej"
      },
      "source": [
        "# 다중 Linear Regression 실습\n",
        "\n",
        "import numpy as np\n",
        "from tensorflow.keras.models import Sequential\n",
        "from tensorflow.keras.layers import Dense\n",
        "from tensorflow.keras import optimizers\n",
        "\n",
        "X=np.array([[70,85,11],[71,89,18],[50,80,20],[99,20,10],[50,10,10]]) # 중간, 기말, 가산점\n",
        "# 입력 벡터의 차원은 3입니다. 즉, input_dim은 3입니다.\n",
        "y=np.array([73,82,72,57,34]) # 최종 성적\n",
        "# 출력 벡터의 차원은 1입니다. 즉, output_dim은 1입니다.\n",
        "\n",
        "model = Sequential()\n",
        "model.add(Dense(1, input_dim=3, activation='linear'))\n",
        "sgd = optimizers.SGD(lr=0.00001)\n",
        "model.compile(optimizer=sgd, loss='mse', metrics=['mse'])\n",
        "model.fit(X, y, batch_size=1, epochs=2000, shuffle=False)"
      ],
      "execution_count": null,
      "outputs": []
    },
    {
      "cell_type": "code",
      "metadata": {
        "id": "Ih6ju9bp75Cs"
      },
      "source": [
        "# 기존 데이터에 대한 예측 확인\n",
        "print(model.predict(X))\n",
        "\n",
        "# 새로운 데이터에 대한 예측 확인\n",
        "X_test = np.array([[20,99,10],[40,50,20]]) # 각각 58점과 56점을 예측해야 합니다.\n",
        "print(model.predict(X_test))"
      ],
      "execution_count": null,
      "outputs": []
    },
    {
      "cell_type": "markdown",
      "metadata": {
        "id": "I6IEtubp8Yjj"
      },
      "source": [
        "2. 다중 로지스틱 회귀"
      ]
    },
    {
      "cell_type": "code",
      "metadata": {
        "id": "4455nPUu8aur"
      },
      "source": [
        "# 다중 Logistic Regression 실습\n",
        "\n",
        "import numpy as np\n",
        "from tensorflow.keras.models import Sequential\n",
        "from tensorflow.keras.layers import Dense\n",
        "from tensorflow.keras import optimizers\n",
        "\n",
        "X = np.array([[5.1, 3.5], [4.7, 3.2], [5.2, 1.8], [7, 4.1], [5.1, 2.1]])\n",
        "y = np.array([1, 1, 0, 1, 0])\n",
        "\n",
        "model = Sequential()\n",
        "model.add(Dense(1, input_dim=2, activation='sigmoid'))\n",
        "sgd = optimizers.SGD(lr=0.00001)\n",
        "model.compile(optimizer=sgd, loss='binary_crossentropy', metrics=['binary_accuracy'])\n",
        "model.fit(X, y, batch_size=1, epochs=800, shuffle=False)"
      ],
      "execution_count": null,
      "outputs": []
    },
    {
      "cell_type": "code",
      "metadata": {
        "id": "8sxOOmua_ZIj"
      },
      "source": [
        "print(model.predict(X))"
      ],
      "execution_count": null,
      "outputs": []
    }
  ]
}