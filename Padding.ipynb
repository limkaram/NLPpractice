{
  "nbformat": 4,
  "nbformat_minor": 0,
  "metadata": {
    "colab": {
      "name": "Padding.ipynb",
      "provenance": [],
      "private_outputs": true,
      "collapsed_sections": [],
      "authorship_tag": "ABX9TyMiSzjwhWwWaQt7H7TaqH6t",
      "include_colab_link": true
    },
    "kernelspec": {
      "name": "python3",
      "display_name": "Python 3"
    }
  },
  "cells": [
    {
      "cell_type": "markdown",
      "metadata": {
        "id": "view-in-github",
        "colab_type": "text"
      },
      "source": [
        "<a href=\"https://colab.research.google.com/github/limkaram/Natural_language_processing_with_deep_learning/blob/main/Padding.ipynb\" target=\"_parent\"><img src=\"https://colab.research.google.com/assets/colab-badge.svg\" alt=\"Open In Colab\"/></a>"
      ]
    },
    {
      "cell_type": "markdown",
      "metadata": {
        "id": "TZ8bDfWy4W84"
      },
      "source": [
        "## 패딩(Padding)"
      ]
    },
    {
      "cell_type": "markdown",
      "metadata": {
        "id": "_qvVcwz96sbr"
      },
      "source": [
        "1. 직접 padding 하는 방법"
      ]
    },
    {
      "cell_type": "code",
      "metadata": {
        "id": "d_U_-dCm4Zwm"
      },
      "source": [
        "import numpy as np\n",
        "from tensorflow.keras.preprocessing.text import Tokenizer\n",
        "\n",
        "sentences = [['barber', 'person'], ['barber', 'good', 'person'], ['barber', 'huge', 'person'], ['knew', 'secret'], ['secret', 'kept', 'huge', 'secret'], ['huge', 'secret'], ['barber', 'kept', 'word'], ['barber', 'kept', 'word'], ['barber', 'kept', 'secret'], ['keeping', 'keeping', 'huge', 'secret', 'driving', 'barber', 'crazy'], ['barber', 'went', 'huge', 'mountain']]\n",
        "\n",
        "# Integer Encoding\n",
        "tokenizer = Tokenizer()\n",
        "tokenizer.fit_on_texts(sentences)  # 단어별 정수 부여\n",
        "tokenizer.word_index\n",
        "encoded = tokenizer.texts_to_sequences(sentences)\n",
        "encoded"
      ],
      "execution_count": null,
      "outputs": []
    },
    {
      "cell_type": "code",
      "metadata": {
        "id": "GzkMYrd15cHf"
      },
      "source": [
        "# padding\n",
        "max_len = max([len(item) for item in encoded])\n",
        "\n",
        "for item in encoded:\n",
        "    if len(item) < max_len:\n",
        "        while len(item) < max_len:\n",
        "            item.append(0)\n",
        "\n",
        "np.array(encoded)"
      ],
      "execution_count": null,
      "outputs": []
    },
    {
      "cell_type": "markdown",
      "metadata": {
        "id": "Bjll2kAb56S7"
      },
      "source": [
        "* 모든 texts_to_sequences() 결과를 max_len 길이로 맞춤\n",
        "* 비어있는 부분은 정수 인덱스 0의 값을 가지고, 가상의 'PAD'라는 문자열을 부여"
      ]
    },
    {
      "cell_type": "markdown",
      "metadata": {
        "id": "6m6tJid06v2b"
      },
      "source": [
        "2. keras pad_sequences() 메소드 활용"
      ]
    },
    {
      "cell_type": "code",
      "metadata": {
        "id": "YB9fRxVC6yvA"
      },
      "source": [
        "from tensorflow.keras.preprocessing.sequence import pad_sequences\n",
        "\n",
        "encoded = tokenizer.texts_to_sequences(sentences)  # 다시 원복\n",
        "encoded\n",
        "\n",
        "padded = pad_sequences(encoded, padding='post', maxlen=5)\n",
        "padded"
      ],
      "execution_count": null,
      "outputs": []
    },
    {
      "cell_type": "markdown",
      "metadata": {
        "id": "BVkN4QHa7UKJ"
      },
      "source": [
        "* pad_sequences()에서 padding='post' 옵션을 주면, 뒤에서 부터 0을 채움\n",
        "* maxlen은 패딩의 전체 길이를 조절할 수 있도록 함\n",
        "* 어떤 문서의 길이가 maxlen보다 컸다면, 데이터는 손실 됨\n"
      ]
    },
    {
      "cell_type": "code",
      "metadata": {
        "id": "Y60f7e1d73rO"
      },
      "source": [
        "tokenizer.word_index  # 제일 큰 인덱스가 13임을 확인\n",
        "last_value = len(tokenizer.word_index) + 1\n",
        "padded = pad_sequences(encoded, padding='post', value=last_value)\n",
        "padded"
      ],
      "execution_count": null,
      "outputs": []
    },
    {
      "cell_type": "markdown",
      "metadata": {
        "id": "f-34djq98cxe"
      },
      "source": [
        "* 패딩시 0 외에 다른 숫자로 넣는 방법\n",
        "* 패딩시 0을 넣는 것이 관례이지만, 만약 다른 숫자로 채워넣는다면, 가장 마지막 인덱스 + 1의 값을 채워 넣기도 함"
      ]
    }
  ]
}