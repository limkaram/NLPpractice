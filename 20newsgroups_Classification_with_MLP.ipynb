{
  "nbformat": 4,
  "nbformat_minor": 0,
  "metadata": {
    "colab": {
      "name": "20newsgroups_Classification_with_MLP.ipynb",
      "provenance": [],
      "collapsed_sections": [],
      "authorship_tag": "ABX9TyPWMcL9XJs8hnMOg9oJnc+o",
      "include_colab_link": true
    },
    "kernelspec": {
      "name": "python3",
      "display_name": "Python 3"
    },
    "accelerator": "GPU"
  },
  "cells": [
    {
      "cell_type": "markdown",
      "metadata": {
        "id": "view-in-github",
        "colab_type": "text"
      },
      "source": [
        "<a href=\"https://colab.research.google.com/github/limkaram/Natural_language_processing_with_deep_learning/blob/main/20newsgroups_Classification_with_MLP.ipynb\" target=\"_parent\"><img src=\"https://colab.research.google.com/assets/colab-badge.svg\" alt=\"Open In Colab\"/></a>"
      ]
    },
    {
      "cell_type": "markdown",
      "metadata": {
        "id": "gmkmxhlm5KwN"
      },
      "source": [
        "## MLP 활용 20개 뉴스 그룹 분류 실습"
      ]
    },
    {
      "cell_type": "markdown",
      "metadata": {
        "id": "t-fYvpN4bTru"
      },
      "source": [
        "1. 데이터 이해 및 전처리"
      ]
    },
    {
      "cell_type": "code",
      "metadata": {
        "id": "uM3h9Tj65WLo"
      },
      "source": [
        "import pandas as pd\n",
        "from sklearn.datasets import fetch_20newsgroups  # 20개의 다른 주제를 지닌 18,846개의 뉴스 그룹 이메일 데이터\n",
        "%matplotlib inline\n",
        "import matplotlib.pyplot as plt\n",
        "from tensorflow.keras.preprocessing.text import Tokenizer\n",
        "from tensorflow.keras.utils import to_categorical"
      ],
      "execution_count": null,
      "outputs": []
    },
    {
      "cell_type": "code",
      "metadata": {
        "id": "VP7595yp671o"
      },
      "source": [
        "newsdata = fetch_20newsgroups(subset = 'train')  # train 데이터만 반환"
      ],
      "execution_count": null,
      "outputs": []
    },
    {
      "cell_type": "code",
      "metadata": {
        "id": "2AKF49QU73fT"
      },
      "source": [
        "print(newsdata.keys())"
      ],
      "execution_count": null,
      "outputs": []
    },
    {
      "cell_type": "code",
      "metadata": {
        "id": "AJmzN-Ru7LOO"
      },
      "source": [
        "data = pd.DataFrame(newsdata.data, columns=['email'])\n",
        "data['target'] = pd.Series(newsdata.target)\n",
        "data.info()"
      ],
      "execution_count": null,
      "outputs": []
    },
    {
      "cell_type": "code",
      "metadata": {
        "id": "lIlS4gQ--x6B"
      },
      "source": [
        "import seaborn as sns\n",
        "\n",
        "# target 개수 분포 확인\n",
        "sns.countplot(x=data['target'])\n",
        "data.groupby(by='target').size()"
      ],
      "execution_count": null,
      "outputs": []
    },
    {
      "cell_type": "code",
      "metadata": {
        "id": "vVt9jopE_rdy"
      },
      "source": [
        "# 훈련 데이터, 테스트 데이터 본문, 레이블 분류\n",
        "newsdata_test = fetch_20newsgroups(subset='test', shuffle=True)\n",
        "\n",
        "train_email = data['email']\n",
        "train_label = data['target']\n",
        "\n",
        "test_email = newsdata_test.data\n",
        "test_label = newsdata_test.target"
      ],
      "execution_count": null,
      "outputs": []
    },
    {
      "cell_type": "code",
      "metadata": {
        "id": "3RftrOTdAsF3"
      },
      "source": [
        "# preprocessing 진행\n",
        "max_words = 10000  # 빈도수 상위 10000개의 단어만 사용\n",
        "num_classes = 20  # 레이블 수"
      ],
      "execution_count": null,
      "outputs": []
    },
    {
      "cell_type": "code",
      "metadata": {
        "id": "Cpwav7l4A3Ut"
      },
      "source": [
        "def prepare_data(train_data, test_data, mode):\n",
        "    t = Tokenizer(num_words=max_words)\n",
        "    t.fit_on_texts(train_data)\n",
        "    X_train = t.texts_to_matrix(train_data, mode=mode)  # 샘플 수 x max_words 크기 행렬 생성\n",
        "    X_test = t.texts_to_matrix(test_data, mode=mode)  # 샘플 수 x max_words 크기 행렬 생성\n",
        "    return X_train, X_test, t.index_word"
      ],
      "execution_count": null,
      "outputs": []
    },
    {
      "cell_type": "markdown",
      "metadata": {
        "id": "OSR_bCjtXwFX"
      },
      "source": [
        "* texts_to_matrix(mode='mode 인자') mode 가능 인자\n",
        "    - 'count' : DTM에서 단어 갯수로 구성\n",
        "    - 'binary' : DTM에서 단어 존재시 1, 미존재시 0으로 적용\n",
        "    - 'tfidf' : tfidf 실수 값으로 적용\n",
        "    - 'freq' : 각 문서에서 각 단어의 등장 횟수 / 각 문서의 크기(각 문서에서 등장한 모든 단어의 개수의 총 합)으로 표현"
      ]
    },
    {
      "cell_type": "code",
      "metadata": {
        "id": "Yfe3tJnTY-7Q"
      },
      "source": [
        "X_train, X_test, index_to_word = prepare_data(train_email, test_email, 'binary')\n",
        "y_train = to_categorical(train_label, num_classes)  # 원-핫 인코딩\n",
        "y_test = to_categorical(test_label, num_classes)  # 원-핫 인코딩"
      ],
      "execution_count": null,
      "outputs": []
    },
    {
      "cell_type": "code",
      "metadata": {
        "id": "Uyi2h5bfarxi"
      },
      "source": [
        "print('훈련 샘플 본문의 크기 : {}'.format(X_train.shape))\n",
        "print('훈련 샘플 레이블의 크기 : {}'.format(y_train.shape))\n",
        "print('테스트 샘플 본문의 크기 : {}'.format(X_test.shape))\n",
        "print('테스트 샘플 레이블의 크기 : {}'.format(y_test.shape))"
      ],
      "execution_count": null,
      "outputs": []
    },
    {
      "cell_type": "markdown",
      "metadata": {
        "id": "TWHCTFy4bXyF"
      },
      "source": [
        "2. MLP 모델 설계"
      ]
    },
    {
      "cell_type": "code",
      "metadata": {
        "id": "5PSviUOIbZVC"
      },
      "source": [
        "from tensorflow.keras.models import Sequential\n",
        "from tensorflow.keras.layers import Dense, Dropout\n",
        "\n",
        "def fit_and_evaluate(X_train, y_train, X_test, y_test):\n",
        "    model = Sequential()\n",
        "    model.add(Dense(256, input_shape=(max_words, ), activation='relu'))\n",
        "    model.add(Dropout(0.5))\n",
        "    model.add(Dense(128, activation='relu'))\n",
        "    model.add(Dropout(0.5))\n",
        "    model.add(Dense(num_classes, activation='softmax'))\n",
        "\n",
        "    model.compile(loss='categorical_crossentropy', optimizer='adam', metrics=['accuracy'])\n",
        "    model.fit(X_train, y_train, batch_size=128, epochs=5, verbose=1, validation_split=0.1)\n",
        "    score = model.evaluate(X_test, y_test, batch_size=128, verbose=0)\n",
        "    return score[1]"
      ],
      "execution_count": 25,
      "outputs": []
    },
    {
      "cell_type": "markdown",
      "metadata": {
        "id": "GgRYF6tedBty"
      },
      "source": [
        "* Dropout(0.5) : overfiting을 막기 위해 각 은닉층의 뉴런의 반을 가리고 학습"
      ]
    },
    {
      "cell_type": "code",
      "metadata": {
        "id": "cyP8jSBrdUsY",
        "outputId": "80baa28e-f328-4659-bf4f-8114dcfe1c26",
        "colab": {
          "base_uri": "https://localhost:8080/"
        }
      },
      "source": [
        "modes = ['binary', 'count', 'tfidf', 'freq']  # texts_to_matrix()의 4개 모드 전부 학습 예정\n",
        "for mode in modes:\n",
        "    X_train, X_test, _ = prepare_data(train_email, test_email, mode)\n",
        "    score = fit_and_evaluate(X_train, y_train, X_test, y_test)  # 모델을 훈련하고 평가\n",
        "    print(mode + ' 모드 테스트 정확도 : ', score)"
      ],
      "execution_count": 26,
      "outputs": [
        {
          "output_type": "stream",
          "text": [
            "Epoch 1/5\n",
            "80/80 [==============================] - 1s 7ms/step - loss: 2.2625 - accuracy: 0.3418 - val_loss: 0.9526 - val_accuracy: 0.8295\n",
            "Epoch 2/5\n",
            "80/80 [==============================] - 0s 6ms/step - loss: 0.8593 - accuracy: 0.7672 - val_loss: 0.4569 - val_accuracy: 0.8860\n",
            "Epoch 3/5\n",
            "80/80 [==============================] - 0s 6ms/step - loss: 0.4331 - accuracy: 0.8852 - val_loss: 0.3494 - val_accuracy: 0.9117\n",
            "Epoch 4/5\n",
            "80/80 [==============================] - 0s 6ms/step - loss: 0.2576 - accuracy: 0.9354 - val_loss: 0.3021 - val_accuracy: 0.9249\n",
            "Epoch 5/5\n",
            "80/80 [==============================] - 0s 6ms/step - loss: 0.1750 - accuracy: 0.9594 - val_loss: 0.2773 - val_accuracy: 0.9258\n",
            "binary모드 테스트 정확도 :  0.8321827054023743\n",
            "Epoch 1/5\n",
            "80/80 [==============================] - 1s 8ms/step - loss: 2.7244 - accuracy: 0.2397 - val_loss: 1.5827 - val_accuracy: 0.7491\n",
            "Epoch 2/5\n",
            "80/80 [==============================] - 1s 6ms/step - loss: 1.4034 - accuracy: 0.6399 - val_loss: 0.6925 - val_accuracy: 0.8648\n",
            "Epoch 3/5\n",
            "80/80 [==============================] - 1s 7ms/step - loss: 0.7567 - accuracy: 0.8136 - val_loss: 0.4833 - val_accuracy: 0.8843\n",
            "Epoch 4/5\n",
            "80/80 [==============================] - 1s 6ms/step - loss: 0.5234 - accuracy: 0.8776 - val_loss: 0.4294 - val_accuracy: 0.8905\n",
            "Epoch 5/5\n",
            "80/80 [==============================] - 1s 6ms/step - loss: 0.3427 - accuracy: 0.9170 - val_loss: 0.3930 - val_accuracy: 0.8966\n",
            "count모드 테스트 정확도 :  0.8256770968437195\n",
            "Epoch 1/5\n",
            "80/80 [==============================] - 1s 7ms/step - loss: 2.2369 - accuracy: 0.3599 - val_loss: 0.7708 - val_accuracy: 0.8489\n",
            "Epoch 2/5\n",
            "80/80 [==============================] - 0s 6ms/step - loss: 0.8587 - accuracy: 0.7642 - val_loss: 0.4358 - val_accuracy: 0.9019\n",
            "Epoch 3/5\n",
            "80/80 [==============================] - 0s 6ms/step - loss: 0.4639 - accuracy: 0.8803 - val_loss: 0.3401 - val_accuracy: 0.9055\n",
            "Epoch 4/5\n",
            "80/80 [==============================] - 0s 6ms/step - loss: 0.2884 - accuracy: 0.9329 - val_loss: 0.3202 - val_accuracy: 0.9125\n",
            "Epoch 5/5\n",
            "80/80 [==============================] - 0s 6ms/step - loss: 0.2074 - accuracy: 0.9500 - val_loss: 0.3048 - val_accuracy: 0.9178\n",
            "tfidf모드 테스트 정확도 :  0.8377588987350464\n",
            "Epoch 1/5\n",
            "80/80 [==============================] - 1s 7ms/step - loss: 2.9778 - accuracy: 0.0818 - val_loss: 2.9308 - val_accuracy: 0.1846\n",
            "Epoch 2/5\n",
            "80/80 [==============================] - 0s 6ms/step - loss: 2.7385 - accuracy: 0.2248 - val_loss: 2.4113 - val_accuracy: 0.4293\n",
            "Epoch 3/5\n",
            "80/80 [==============================] - 0s 6ms/step - loss: 2.1922 - accuracy: 0.3341 - val_loss: 1.8617 - val_accuracy: 0.5733\n",
            "Epoch 4/5\n",
            "80/80 [==============================] - 0s 6ms/step - loss: 1.7264 - accuracy: 0.4702 - val_loss: 1.4500 - val_accuracy: 0.6599\n",
            "Epoch 5/5\n",
            "80/80 [==============================] - 0s 6ms/step - loss: 1.3521 - accuracy: 0.6015 - val_loss: 1.1360 - val_accuracy: 0.7447\n",
            "freq모드 테스트 정확도 :  0.6941051483154297\n"
          ],
          "name": "stdout"
        }
      ]
    },
    {
      "cell_type": "code",
      "metadata": {
        "id": "66yTan_eeB8i"
      },
      "source": [
        ""
      ],
      "execution_count": null,
      "outputs": []
    }
  ]
}