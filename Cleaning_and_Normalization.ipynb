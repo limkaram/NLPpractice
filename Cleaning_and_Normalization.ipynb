{
  "nbformat": 4,
  "nbformat_minor": 0,
  "metadata": {
    "colab": {
      "name": "Cleaning_and_Normalization.ipynb",
      "provenance": [],
      "private_outputs": true,
      "collapsed_sections": [],
      "authorship_tag": "ABX9TyN6nnOSETG/e3T3bdSQfEM8",
      "include_colab_link": true
    },
    "kernelspec": {
      "name": "python3",
      "display_name": "Python 3"
    }
  },
  "cells": [
    {
      "cell_type": "markdown",
      "metadata": {
        "id": "view-in-github",
        "colab_type": "text"
      },
      "source": [
        "<a href=\"https://colab.research.google.com/github/limkaram/Natural_language_processing_with_deep_learning/blob/main/Cleaning_and_Normalization.ipynb\" target=\"_parent\"><img src=\"https://colab.research.google.com/assets/colab-badge.svg\" alt=\"Open In Colab\"/></a>"
      ]
    },
    {
      "cell_type": "code",
      "metadata": {
        "id": "bTPInyfeVoM0"
      },
      "source": [
        "from google.colab import drive\n",
        "drive.mount('/content/drive')"
      ],
      "execution_count": null,
      "outputs": []
    },
    {
      "cell_type": "markdown",
      "metadata": {
        "id": "7Sii7rlLWPYL"
      },
      "source": [
        "## 1. 등장 빈도가 적은 단어 제거\n",
        "* collections의 Counter을 활용하여 빈도 측정가능"
      ]
    },
    {
      "cell_type": "markdown",
      "metadata": {
        "id": "lfDjKqZ4o2MZ"
      },
      "source": [
        "## 2. 길이가 짧은 단어 제거"
      ]
    },
    {
      "cell_type": "code",
      "metadata": {
        "id": "0qRIFs23oMmb"
      },
      "source": [
        "import re\n",
        "\n",
        "text = \"I was wondering if anyone out there could enlighten me on this car.\"\n",
        "stortword_regex = re.compile(r'\\W{0,}\\b\\w{1,2}\\b')  # {0,} === *\n",
        "stortword_regex.sub('', text)"
      ],
      "execution_count": null,
      "outputs": []
    },
    {
      "cell_type": "markdown",
      "metadata": {
        "id": "9y4pWiMFoc6U"
      },
      "source": [
        "* 정규 표현식 활용 \n",
        "* 문자 클래스\t설명\n",
        "    - \\d : 숫자 [0-9]와 같다.\n",
        "    - \\D : 비숫자 [^0-9]와 같다.\n",
        "    - \\w : 숫자 + 문자 [a-zA-Z0-9]와 같다.\n",
        "    - \\W : 숫자 + 문자가 아닌 것 [^a-zA-Z0-9]와 같다.\n",
        "    - \\s : 공백 [ \\t\\n\\r\\f\\v]와 같다.\n",
        "    - \\S : 비공백 [^ \\t\\n\\r\\f\\v]와 같다.\n",
        "    - \\b : 단어 경계 (`\\w`와 `\\W`의 경계)\n",
        "    - \\B : 비단어 경계"
      ]
    }
  ]
}