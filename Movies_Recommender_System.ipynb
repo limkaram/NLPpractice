{
  "nbformat": 4,
  "nbformat_minor": 0,
  "metadata": {
    "colab": {
      "name": "Movies_Recommender_System.ipynb",
      "provenance": [],
      "private_outputs": true,
      "collapsed_sections": [],
      "authorship_tag": "ABX9TyN1A9ioYB25l1y/JceOtap4",
      "include_colab_link": true
    },
    "kernelspec": {
      "name": "python3",
      "display_name": "Python 3"
    },
    "accelerator": "GPU"
  },
  "cells": [
    {
      "cell_type": "markdown",
      "metadata": {
        "id": "view-in-github",
        "colab_type": "text"
      },
      "source": [
        "<a href=\"https://colab.research.google.com/github/limkaram/Natural_language_processing_with_deep_learning/blob/main/Movies_Recommender_System.ipynb\" target=\"_parent\"><img src=\"https://colab.research.google.com/assets/colab-badge.svg\" alt=\"Open In Colab\"/></a>"
      ]
    },
    {
      "cell_type": "markdown",
      "metadata": {
        "id": "G0xzZrc9dGmU"
      },
      "source": [
        "## 코사인 유사도 활용 영화 추천 시스템"
      ]
    },
    {
      "cell_type": "markdown",
      "metadata": {
        "id": "lAUgIP6TdLGA"
      },
      "source": [
        "* The Movices Dataset 출처 : https://www.kaggle.com/rounakbanik/the-movies-dataset"
      ]
    },
    {
      "cell_type": "code",
      "metadata": {
        "id": "Sm4Z53p5eZ7X"
      },
      "source": [
        "from google.colab import drive\n",
        "drive.mount('/content/drive')"
      ],
      "execution_count": null,
      "outputs": []
    },
    {
      "cell_type": "code",
      "metadata": {
        "id": "Joama-R-fUWi"
      },
      "source": [
        "import pandas as pd\n",
        "\n",
        "data = pd.read_csv('/content/drive/My Drive/Natural_language_processing_with_deep_learning/movies_metadata.csv')\n",
        "nessesary_columns = ['original_title', 'overview']\n",
        "data = data[nessesary_columns].head(20000)\n",
        "\n",
        "data['overview'] = data['overview'].fillna('')\n",
        "data['overview'].isnull().sum()"
      ],
      "execution_count": null,
      "outputs": []
    },
    {
      "cell_type": "markdown",
      "metadata": {
        "id": "bpAzFUibgsQP"
      },
      "source": [
        "* tf-idf 진행시 데이터에 Null이 들어가 있으면, 에러 발생\n",
        "* 사전 Null 값 제거"
      ]
    },
    {
      "cell_type": "code",
      "metadata": {
        "id": "uERI4xCOgpKn"
      },
      "source": [
        "from sklearn.feature_extraction.text import TfidfVectorizer\n",
        "\n",
        "# tf-idf 진행\n",
        "tfidf = TfidfVectorizer()\n",
        "tfidf_matrix = tfidf.fit_transform(data['overview'])\n",
        "\n",
        "print(tfidf_matrix.shape)\n",
        "print(type(tfidf_matrix.shape))"
      ],
      "execution_count": null,
      "outputs": []
    },
    {
      "cell_type": "markdown",
      "metadata": {
        "id": "ZVYpJxWAh2VE"
      },
      "source": [
        "* tfidf_matrix.shape 결과 (20000, 47788) : 20000개의 영화를 표현하기 위해서 47788개의 단어가 사용됨을 보여줌"
      ]
    },
    {
      "cell_type": "code",
      "metadata": {
        "id": "qmidL291hvwR"
      },
      "source": [
        "from sklearn.metrics.pairwise import linear_kernel\n",
        "cosine_sim = linear_kernel(tfidf_matrix, tfidf_matrix)"
      ],
      "execution_count": null,
      "outputs": []
    },
    {
      "cell_type": "code",
      "metadata": {
        "id": "EdxhnYxajxSa"
      },
      "source": [
        "# 영화 타이틀 입력시 인덱스를 리턴하는 Table\n",
        "indices = pd.Series(data.index, index=data['original_title']).drop_duplicates()"
      ],
      "execution_count": null,
      "outputs": []
    },
    {
      "cell_type": "code",
      "metadata": {
        "id": "FD4nHIIko26i"
      },
      "source": [
        "def get_recommender(title, cosine_sim=cosine_sim):\n",
        "    # 선택한 영화의 타이틀로부터 해당되는 인덱스를 받아옴\n",
        "    idx = indices[title]\n",
        "\n",
        "    # 모든 영화에 대해서 해당 영화와의 유사도 구하기\n",
        "    sim_scores = list(enumerate(cosine_sim[idx]))\n",
        "\n",
        "    # 유사도에 따라 영화들을 정렬\n",
        "    sim_scores = sorted(sim_scores, key=lambda x: x[1], reverse=True)\n",
        "\n",
        "    # 가장 유사한 10개의 영화를 받아옴\n",
        "    sim_scores = sim_scores[1:11]\n",
        "\n",
        "    # 가장 유사한 10개의 영화의 인덱스를 받아옴\n",
        "    movie_indices = [i[0] for i in sim_scores]\n",
        "\n",
        "    # 가장 유사한 10개의 영화의 제목 리턴\n",
        "    return data['original_title'].iloc[movie_indices]\n",
        "\n",
        "get_recommender('The Dark Knight Rises')"
      ],
      "execution_count": null,
      "outputs": []
    }
  ]
}