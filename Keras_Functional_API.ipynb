{
  "nbformat": 4,
  "nbformat_minor": 0,
  "metadata": {
    "colab": {
      "name": "Keras_Functional_API.ipynb",
      "provenance": [],
      "private_outputs": true,
      "collapsed_sections": [],
      "authorship_tag": "ABX9TyPExelHLKcdHtPDwJwXEmaQ",
      "include_colab_link": true
    },
    "kernelspec": {
      "name": "python3",
      "display_name": "Python 3"
    }
  },
  "cells": [
    {
      "cell_type": "markdown",
      "metadata": {
        "id": "view-in-github",
        "colab_type": "text"
      },
      "source": [
        "<a href=\"https://colab.research.google.com/github/limkaram/Natural_language_processing_with_deep_learning/blob/main/Keras_Functional_API.ipynb\" target=\"_parent\"><img src=\"https://colab.research.google.com/assets/colab-badge.svg\" alt=\"Open In Colab\"/></a>"
      ]
    },
    {
      "cell_type": "markdown",
      "metadata": {
        "id": "kq6GeGfsDFB3"
      },
      "source": [
        "## 케라스의 함수형 API"
      ]
    },
    {
      "cell_type": "markdown",
      "metadata": {
        "id": "yAqf0MK0DIpk"
      },
      "source": [
        "* 기존 사용한 방식은 sequential API를 활용한 방법\n",
        "* sequential API는 여러 층을 공유하거나 다양한 종류의 입력과 출력을 사용하는 등의 복잡한 모델에서는 한계가 있음\n",
        "* 복잡한 모델을 생성할 수 있는 방식인 케라스 함수형 API이 존재"
      ]
    },
    {
      "cell_type": "markdown",
      "metadata": {
        "id": "Vx2NRMa2DVAu"
      },
      "source": [
        "1. sequential API 모델"
      ]
    },
    {
      "cell_type": "code",
      "metadata": {
        "id": "z-nfp3XnDXQ7"
      },
      "source": [
        "from tensorflow.keras.models import Sequential\n",
        "from tensorflow.keras.layers import Dense\n",
        "\n",
        "model = Sequential()\n",
        "model.add(Dense(3, input_dim=4, activation='softmax'))"
      ],
      "execution_count": null,
      "outputs": []
    },
    {
      "cell_type": "markdown",
      "metadata": {
        "id": "5eaYWYlvDmFH"
      },
      "source": [
        "### FFNN(Feed Forward Neural Network) 구현"
      ]
    },
    {
      "cell_type": "code",
      "metadata": {
        "id": "X7RFQ4jwDnk7"
      },
      "source": [
        "from tensorflow.keras.layers import Input\n",
        "\n",
        "inputs = Input(shape=(10,))"
      ],
      "execution_count": null,
      "outputs": []
    },
    {
      "cell_type": "markdown",
      "metadata": {
        "id": "ErWaILuUD41u"
      },
      "source": [
        "* Input() : 텐서를 반환\n",
        "* shape=(10,) : 입력 차원이 1인 형태"
      ]
    },
    {
      "cell_type": "code",
      "metadata": {
        "id": "FTvXGu-EEH4n"
      },
      "source": [
        "from tensorflow.keras.layers import Input, Dense\n",
        "from tensorflow.keras.models import Model\n",
        "\n",
        "inputs = Input(shape=(10, ))\n",
        "hidden1 = Dense(64, activation='relu')(inputs)\n",
        "hidden2 = Dense(64, activation='relu')(hidden1)\n",
        "output = Dense(1, activation='sigmoid')(hidden2)\n",
        "model = Model(inputs=inputs, outpus=output)\n"
      ],
      "execution_count": null,
      "outputs": []
    },
    {
      "cell_type": "markdown",
      "metadata": {
        "id": "78GAj3XVEhWR"
      },
      "source": [
        "* Input() : 함수에 입력의 크기를 정의\n",
        "* 이전층을 다음층 함수의 입력으로 사용하고, 변수에 할당\n",
        "* Model() 함수에 입력과 출력을 정의"
      ]
    },
    {
      "cell_type": "code",
      "metadata": {
        "id": "YEbCeyUmEt9r"
      },
      "source": [
        "model.compile(optimizer='rmsprop', loss='categorical_crossentropy', metrics=['accuracy'])\n",
        "model.fit(data, labels)"
      ],
      "execution_count": null,
      "outputs": []
    },
    {
      "cell_type": "markdown",
      "metadata": {
        "id": "lhf94f4rEu34"
      },
      "source": [
        "* sequential API와 마찬가지로 model.compile, model.fit 등 사용 가능"
      ]
    },
    {
      "cell_type": "code",
      "metadata": {
        "id": "Jq0OFyJEE4Vg"
      },
      "source": [
        "# 변수명을 달리하여 FFNN 구현\n",
        "from tensorflow.keras.layers import Input, Dense\n",
        "from tensorflow.keras.models import Model\n",
        "\n",
        "inputs = Input(shape=(10, ))  # 입력층\n",
        "x = Dense(8, activation='relu')(inputs)  # 은닉층1\n",
        "x = Dense(4, activation='relu')(x)  # 은닉층2\n",
        "x = Dense(1, activation='relu')(x)  # 출력층\n",
        "model = Model(inputs, x)"
      ],
      "execution_count": null,
      "outputs": []
    },
    {
      "cell_type": "markdown",
      "metadata": {
        "id": "j1rjkgurFdB1"
      },
      "source": [
        "## 선형 회귀(Linear Regression) 구현"
      ]
    },
    {
      "cell_type": "code",
      "metadata": {
        "id": "GNiKfD2VFzXv"
      },
      "source": [
        "from tensorflow.keras.layers import Input, Dense\n",
        "from tensorflow.keras.models import Model\n",
        "\n",
        "inputs = Input(shape=(3,))\n",
        "output = Dense(1, activation='linear')(inputs)\n",
        "linear_model = Model(inputs, output)\n",
        "\n",
        "linear_model.compile(optimizer='sgd', loss='mse')\n",
        "linear_model.fit(x=dat_test, y=y_cts_test, epochs=50, verbose=0)\n",
        "linear_model.fit(x=dat_test, y=y_cts_test, epochs=1, verbose=1)"
      ],
      "execution_count": null,
      "outputs": []
    },
    {
      "cell_type": "markdown",
      "metadata": {
        "id": "Sz33-HynGt5a"
      },
      "source": [
        "## 로지스틱 회귀(Logistic Regression)"
      ]
    },
    {
      "cell_type": "code",
      "metadata": {
        "id": "FCRVIryLG1cY"
      },
      "source": [
        "from tensorflow.keras.layers import Input, Dense\n",
        "from tensorflow.keras.models import Model\n",
        "\n",
        "inputs = Input(shape(3, ))\n",
        "output = Dense(1, activation='sigmoid')(inputs)\n",
        "logistic_model = Model(inputs, output)\n",
        "\n",
        "logistic_model.compile(optimizer='sgd', loss='binary_crossentropy', metrics=['accuracy'])\n",
        "logistic_model.fit(x=data_train, y=classifier_train, epochs=5, validation_data=(dat_test, y_clssifier_test))"
      ],
      "execution_count": null,
      "outputs": []
    },
    {
      "cell_type": "markdown",
      "metadata": {
        "id": "aVfD5PqcHoGj"
      },
      "source": [
        "## 다중 입력을 받는 모델"
      ]
    },
    {
      "cell_type": "code",
      "metadata": {
        "id": "GBGbI_WcHqW_"
      },
      "source": [
        "from tensorflow.keras.layers import Input, Dense\n",
        "from tensorflow.keras.models import Model\n",
        "\n",
        "# 2개의 입력층 정의\n",
        "inputA = Input(shape=(64, ))\n",
        "inputB = Input(shape=(128, ))\n",
        "\n",
        "# 첫번째 입력층으로부터 분기되어 진행되는 인공 신경망 정의\n",
        "x = Dense(16, activation='relu')(inputA)\n",
        "x = Dense(8, activation='relu')(x)\n",
        "x = Model(inputs=inputA, outputs=x)  # 혹은 Model(inputA, x) 가능(인자 순서만 입력, 출력순으로 넣어주면)\n",
        "\n",
        "# 두번째 입력층으로부터 분기되어 진행되는 인공 신경망 정의\n",
        "y = Dense(64, activation='relu')(inputB)\n",
        "y = Dense(32, activation='relu')(y)\n",
        "y = Dense(8, activation='relu')(y)\n",
        "y = Model(inputs=inputB, outputs=y)\n",
        "\n",
        "# 두개의 인공 신경망의 출력을 연결(concatenate)\n",
        "result = concatenate([x.output, y.output])\n",
        "\n",
        "# 연결된 값을 입력으로 받는 밀집층 추가(Dense Layer)\n",
        "z = Dense(2, activation='relu')(result)\n",
        "z = Dense(1, activation='linear')(z)\n",
        "\n",
        "# 결과적으로 두 개의 입력층으로부터 분기되어 진행된 후 마지막에는 하나의 출력을 예측하는 모델이 됨\n",
        "model = Model(inputs=[x.input, y.input], outputs=z)"
      ],
      "execution_count": null,
      "outputs": []
    },
    {
      "cell_type": "markdown",
      "metadata": {
        "id": "vkGVsyATJPkQ"
      },
      "source": [
        "## RNN 은닉층 사용"
      ]
    },
    {
      "cell_type": "code",
      "metadata": {
        "id": "avxSsnDyJREL"
      },
      "source": [
        "from tensorflow.keras.layers import Input, Dense\n",
        "from tensorflow.keras.models import Model\n",
        "\n",
        "inputs = Input(shape(50, 1))  # 하나의 특정(Feature)에 50개의 time-step을 입력으로 받음\n",
        "lstm_layers = LSTM(10)(inputs)  # LSTM 활용\n",
        "x = Dense(10, activation='relu')(lstm_layers)\n",
        "output = Dense(1, activation='sigmoid')(x)\n",
        "model = Model(inputs=inputs, outputs=output)"
      ],
      "execution_count": null,
      "outputs": []
    }
  ]
}