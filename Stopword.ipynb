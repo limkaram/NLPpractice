{
  "nbformat": 4,
  "nbformat_minor": 0,
  "metadata": {
    "colab": {
      "name": "Stopword.ipynb",
      "provenance": [],
      "private_outputs": true,
      "collapsed_sections": [],
      "authorship_tag": "ABX9TyOhMxbeurfovuaO8i7b+21l",
      "include_colab_link": true
    },
    "kernelspec": {
      "name": "python3",
      "display_name": "Python 3"
    }
  },
  "cells": [
    {
      "cell_type": "markdown",
      "metadata": {
        "id": "view-in-github",
        "colab_type": "text"
      },
      "source": [
        "<a href=\"https://colab.research.google.com/github/limkaram/Natural_language_processing_with_deep_learning/blob/main/Stopword.ipynb\" target=\"_parent\"><img src=\"https://colab.research.google.com/assets/colab-badge.svg\" alt=\"Open In Colab\"/></a>"
      ]
    },
    {
      "cell_type": "markdown",
      "metadata": {
        "id": "-OHhvgocONQf"
      },
      "source": [
        "## 1. 불용어(Stopword)"
      ]
    },
    {
      "cell_type": "code",
      "metadata": {
        "id": "mJEL9CYYOPDt"
      },
      "source": [
        "from nltk.corpus import stopwords\n",
        "from nltk.tokenize import word_tokenize\n",
        "import nltk\n",
        "nltk.download('stopwords')\n",
        "nltk.download('punkt')\n",
        "\n",
        "text = \"Family is not an important thing. It's everything.\"\n",
        "result = []\n",
        "for token in word_tokenize(text):\n",
        "    if token not in stopwords.words('english'):\n",
        "        result.append(token)\n",
        "result\n"
      ],
      "execution_count": null,
      "outputs": []
    },
    {
      "cell_type": "markdown",
      "metadata": {
        "id": "1EtXxPrnWi6r"
      },
      "source": [
        "## 2. 한국어 불용어 제거"
      ]
    },
    {
      "cell_type": "code",
      "metadata": {
        "id": "84pKBgVTWldw"
      },
      "source": [
        "from nltk.corpus import stopwords\n",
        "from nltk.tokenize import word_tokenize\n",
        "\n",
        "example = \"고기를 아무렇게나 구우려고 하면 안 돼. 고기라고 다 같은 게 아니거든. 예컨대 삼겹살을 구울 때는 중요한 게 있지.\"\n",
        "stop_words = \"아무거나 아무렇게나 어찌하든지 같다 비슷하다 예컨대 이럴정도로 하면 아니거든\"\n",
        "\n",
        "stop_words = stop_words.split()\n",
        "# print(stop_words)\n",
        "\n",
        "result = []\n",
        "for word in word_tokenize(example):\n",
        "    if word not in stop_words:\n",
        "        result.append(word)\n",
        "print(result)"
      ],
      "execution_count": null,
      "outputs": []
    },
    {
      "cell_type": "markdown",
      "metadata": {
        "id": "XwFcAoL2XXUG"
      },
      "source": [
        "* 한국어 불용어 리스트 : https://www.ranks.nl/stopwords/korean\n",
        "* 한국어 불용어를 제거하는 더 좋은 방법은 코드 내에서 직접 정의하지 않고 txt 파일이나 csv 파일로 수많은 불용어를 정리해놓고, 이를 불러와서 사용하는 방법"
      ]
    }
  ]
}