{
  "nbformat": 4,
  "nbformat_minor": 0,
  "metadata": {
    "colab": {
      "name": "Term_Frequency-Inverse_Document_Frequency.ipynb",
      "provenance": [],
      "private_outputs": true,
      "collapsed_sections": [],
      "authorship_tag": "ABX9TyOdfMjq7D7Z6ypDj8reFF53",
      "include_colab_link": true
    },
    "kernelspec": {
      "name": "python3",
      "display_name": "Python 3"
    }
  },
  "cells": [
    {
      "cell_type": "markdown",
      "metadata": {
        "id": "view-in-github",
        "colab_type": "text"
      },
      "source": [
        "<a href=\"https://colab.research.google.com/github/limkaram/Natural_language_processing_with_deep_learning/blob/main/Term_Frequency_Inverse_Document_Frequency.ipynb\" target=\"_parent\"><img src=\"https://colab.research.google.com/assets/colab-badge.svg\" alt=\"Open In Colab\"/></a>"
      ]
    },
    {
      "cell_type": "markdown",
      "metadata": {
        "id": "LDpPivZdKpiD"
      },
      "source": [
        "## TF-IDF(Term Frequency-Inverse Document Frequency)\n",
        "![TFIDF.png](data:image/png;base64,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)"
      ]
    },
    {
      "cell_type": "markdown",
      "metadata": {
        "id": "AQzGPekFMDL9"
      },
      "source": [
        "1. 직접 TF-IDF 구현하기"
      ]
    },
    {
      "cell_type": "code",
      "metadata": {
        "id": "BCjymCD_ME3_"
      },
      "source": [
        "import pandas as pd\n",
        "from math import log\n",
        "\n",
        "docs = [\n",
        "  '먹고 싶은 사과',\n",
        "  '먹고 싶은 바나나',\n",
        "  '길고 노란 바나나 바나나',\n",
        "  '저는 과일이 좋아요'\n",
        "]\n",
        "\n",
        "vocab = []\n",
        "for doc in docs:\n",
        "    for word in doc.split():\n",
        "        vocab.append(word)\n",
        "vocab = list(set(vocab))\n",
        "vocab.sort()\n",
        "print(vocab)"
      ],
      "execution_count": null,
      "outputs": []
    },
    {
      "cell_type": "code",
      "metadata": {
        "id": "_KpNopH5MJAG"
      },
      "source": [
        "N = len(docs)  # 전체 문서의 수\n",
        "\n",
        "def tf(term, doc):\n",
        "    return doc.count(term)\n",
        "\n",
        "def idf(term):\n",
        "    df = 0\n",
        "    for doc in docs:\n",
        "        df += term in doc\n",
        "    idf = log(N / (1 + df))\n",
        "    return idf\n",
        "\n",
        "def tf_idf(term, doc):\n",
        "    return tf(term, doc) * idf(term)"
      ],
      "execution_count": null,
      "outputs": []
    },
    {
      "cell_type": "code",
      "metadata": {
        "id": "mkdb-XuGO_S4"
      },
      "source": [
        "# tf 구하기\n",
        "result = []\n",
        "for i in range(N):\n",
        "    result.append([])\n",
        "    doc = docs[i]\n",
        "    for j in range(len(vocab)):\n",
        "        term = vocab[j]\n",
        "        result[i].append(tf(term, doc))\n",
        "tf_ = pd.DataFrame(result, columns=vocab)\n",
        "tf_"
      ],
      "execution_count": null,
      "outputs": []
    },
    {
      "cell_type": "code",
      "metadata": {
        "id": "oEat1ToVRMZw"
      },
      "source": [
        "# idf 구하기\n",
        "result = []\n",
        "for j in range(len(vocab)):\n",
        "    term = vocab[j]\n",
        "    result.append(idf(term))\n",
        "idf_ = pd.DataFrame(result, index=vocab, columns=['IDF'])\n",
        "idf_"
      ],
      "execution_count": null,
      "outputs": []
    },
    {
      "cell_type": "code",
      "metadata": {
        "id": "tlb11vAKTG_2"
      },
      "source": [
        "# tf-idf matrix 구하기\n",
        "result = []\n",
        "for i in range(N):\n",
        "    result.append([])\n",
        "    doc = docs[i]\n",
        "    for j in range(len(vocab)):\n",
        "        term = vocab[j]\n",
        "        result[i].append(tf_idf(term, doc))\n",
        "tfidf_ = pd.DataFrame(result, columns=[vocab])\n",
        "tfidf_"
      ],
      "execution_count": null,
      "outputs": []
    },
    {
      "cell_type": "markdown",
      "metadata": {
        "id": "SoL_RS9RUfjH"
      },
      "source": [
        "2. 사이킷런 활용 DTM와 TF-IDF 구현"
      ]
    },
    {
      "cell_type": "code",
      "metadata": {
        "id": "gfXrf_KgUk3H"
      },
      "source": [
        "from sklearn.feature_extraction.text import CountVectorizer\n",
        "\n",
        "# DTM 구현\n",
        "corpus = [\n",
        "    'you know I want your love',\n",
        "    'I like you',\n",
        "    'what should I do ',    \n",
        "]\n",
        "vector = CountVectorizer()\n",
        "print(vector.fit_transform(corpus).toarray())\n",
        "print(vector.vocabulary_)"
      ],
      "execution_count": null,
      "outputs": []
    },
    {
      "cell_type": "code",
      "metadata": {
        "id": "_tTRTboqVTEQ"
      },
      "source": [
        "from sklearn.feature_extraction.text import TfidfVectorizer\n",
        "\n",
        "corpus = [\n",
        "    'you know I want your love',\n",
        "    'I like you',\n",
        "    'what should I do ',    \n",
        "]\n",
        "# TF-IDF 구현\n",
        "tfidf_vector = TfidfVectorizer().fit(corpus)\n",
        "print(tfidf_vector.transform(corpus).toarray())\n",
        "print(tfidf_vector.vocabulary_)"
      ],
      "execution_count": null,
      "outputs": []
    }
  ]
}