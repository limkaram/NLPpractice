{
  "nbformat": 4,
  "nbformat_minor": 0,
  "metadata": {
    "colab": {
      "name": "Splitting_Data.ipynb",
      "provenance": [],
      "private_outputs": true,
      "collapsed_sections": [],
      "authorship_tag": "ABX9TyP48d+a5ct05FisC/N3RfJY",
      "include_colab_link": true
    },
    "kernelspec": {
      "name": "python3",
      "display_name": "Python 3"
    }
  },
  "cells": [
    {
      "cell_type": "markdown",
      "metadata": {
        "id": "view-in-github",
        "colab_type": "text"
      },
      "source": [
        "<a href=\"https://colab.research.google.com/github/limkaram/Natural_language_processing_with_deep_learning/blob/main/Splitting_Data.ipynb\" target=\"_parent\"><img src=\"https://colab.research.google.com/assets/colab-badge.svg\" alt=\"Open In Colab\"/></a>"
      ]
    },
    {
      "cell_type": "markdown",
      "metadata": {
        "id": "CfkYlrbnDY2U"
      },
      "source": [
        "데이터의 분리(Splitting Data)"
      ]
    },
    {
      "cell_type": "markdown",
      "metadata": {
        "id": "hWhZPveSDiSE"
      },
      "source": [
        "1. 사이킷 런을 이용하여 분리하기"
      ]
    },
    {
      "cell_type": "code",
      "metadata": {
        "id": "Qyf-NdCNDfxd"
      },
      "source": [
        "import numpy as np\n",
        "from sklearn.model_selection import train_test_split\n",
        "\n",
        "X, y = np.arange(10).reshape((5, 2)), range(5)  # 실습을 위해 임의로 X와 y가 이미 분리 된 데이터를 생성\n",
        "X_train, X_test, y_train, y_test = train_test_split(X, y, test_size=0.2, shuffle=True, random_state=1234)\n",
        "print(X)\n",
        "print(list(y))\n",
        "\n",
        "print(X_train)\n",
        "print(X_test)"
      ],
      "execution_count": null,
      "outputs": []
    },
    {
      "cell_type": "markdown",
      "metadata": {
        "id": "pJThHZb9JKBY"
      },
      "source": [
        "* random_state 옵션은 랜덤으로 만들어진 값을 다시 복구할 수 있도록 해주는 옵션으로 아무 숫자나 넣어주면 됨\n",
        "* shuffle은 무작위로 데이터를 분리해주는 것을 의미"
      ]
    }
  ]
}